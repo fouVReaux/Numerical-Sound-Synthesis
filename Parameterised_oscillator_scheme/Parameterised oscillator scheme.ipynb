{
 "cells": [
  {
   "cell_type": "markdown",
   "metadata": {},
   "source": [
    "# Oscillator Assignment\n",
    "### S. Bilbao, December 14, 2019\n",
    "### C. Lavrat, January 21, 2020\n",
    "\n",
    "### Introdutron\n",
    "In this assignment, a code is provided for the parameterised oscillator scheme,\n",
    "as given in Eq. (58) in the notes. The scheme depends on an angular frequency $w0$, as well as a free paramater alpha.\n",
    "You should derive a scheme of the form of:\n",
    "$u^{n+1} = a \\times u^{n}-u^{n-1}$, for some constant $a$, which you will determine below. \n",
    "\n",
    "There are three questions Q1 through Q3 below. Please edit this Matlab\n",
    "code and return it with the questions answered!\n",
    "\n",
    "Eq.58 : $\\delta_{tt} u^n + \\omega_0^2 (\\alpha + (1-\\alpha)\\mu_{to})u^n$\n",
    "\n",
    "Eq.22 : $\\delta_{tt} = \\delta_{t^+}\\delta_{t^-} = \\frac 1 {k^2} (e_{t^+} -2 +e_{t^-})$\n",
    "\n",
    "Eq.23 : $\\mu_{to} = \\mu_{t^+}\\mu_{t^-} = \\frac 1 4 (e_{t^+} + 2 + e_{t^-})$\n"
   ]
  },
  {
   "cell_type": "markdown",
   "metadata": {},
   "source": [
    "### Initial Values"
   ]
  },
  {
   "cell_type": "code",
   "execution_count": 2,
   "metadata": {},
   "outputs": [],
   "source": [
    "Fs = 44100;       % Sampling rate\n",
    "f0 = 1842;        % Frequency of the oscillator\n",
    "Tf = 1;           % Duration of the generated signal\n",
    "u0 = 1;           % Initial value of u (movement)\n",
    "v0 = 0;           % Initial value of v (speed)\n",
    "alpha = 0.8;      % Parameter of the oscillator"
   ]
  },
  {
   "cell_type": "markdown",
   "metadata": {},
   "source": [
    "### Derived quantities"
   ]
  },
  {
   "cell_type": "code",
   "execution_count": 6,
   "metadata": {},
   "outputs": [],
   "source": [
    "k = 1/Fs;         % Temporal Step \n",
    "w0 = 2*pi*f0;     % angular frequency\n",
    "Nf = floor(Tf*Fs);% number of dot to generate (integer)"
   ]
  },
  {
   "cell_type": "markdown",
   "metadata": {},
   "source": [
    "### Initialize"
   ]
  },
  {
   "cell_type": "code",
   "execution_count": 7,
   "metadata": {},
   "outputs": [],
   "source": [
    "u2 = u0;\n",
    "u1 = u0+k*v0;\n",
    "H = zeros(Nf,1);\n",
    "out = zeros(Nf,1);"
   ]
  },
  {
   "cell_type": "markdown",
   "metadata": {},
   "source": [
    "### Question N°1 : Value of $a$\n",
    "Insert proper value of the parameter a to be used in the update in the main loop (see comments at top of assignment).\n",
    "\n",
    "to access to $a$ value we have to write equation 58 with 22 and 23 expressions :\n",
    "\n",
    "Eq.58 : $\\delta_{tt} u^n + \\omega_0^2 (\\alpha + (1-\\alpha)\\mu_{to})u^n=0$\n",
    "\n",
    "$\\delta_{tt} u^n + \\omega_0^2 \\alpha u^n + (1-\\alpha)w_0^2\\mu_{to}u^n = 0$\n",
    "\n",
    "$\\frac 1 {k^2} (u^{n+1} -2u^{n} + u^{n-1}) + \\omega_0^2 \\alpha u^n + \\frac {(1-\\alpha)w_0^2} 4 (u^{n+1} +2u^{n} + u^{n-1})=0$\n",
    "\n",
    "$\\left[ \\frac 1 {k^2} + \\frac {(1-\\alpha)\\omega_0^2}{4}\\right]u^{n+1} +\\left[ -\\frac{2}{k^2}+\\omega_0^2 \\alpha + \\frac{(1-\\alpha)\\omega_0 2}{4}\\right]u^n  +\\left[ \\frac 1 {k^2} + \\frac {(1-\\alpha)\\omega_0^2}{4}\\right] u^{n-1}=0$\n",
    "\n",
    "$ Au^{n+1}+ Bu^n + Cu^{n-1}=0$\n",
    "\n",
    "$A = C =  \\frac 1 {k^2} + \\frac {(1-\\alpha)\\omega_0^2}{4} = \\frac {(1- \\alpha) \\omega_0^2 k^2 +4}{4k^2}$\n",
    "\n",
    "$B = \\left[ -\\frac{2}{k^2}+\\omega_0^2 \\alpha + \\frac{(1-\\alpha)\\omega_0 2}{4}\\right] = \\frac {(1+\\alpha)w_0^2k^2-4}{2 k^2}$\n",
    "\n",
    "We put the equation into the $u^{n+1} = a u^{n}-u^{n-1}$ format\n",
    "\n",
    "$ Au^{n+1}+ Bu^n + Cu^{n-1}=0$\n",
    "\n",
    "$ u^{n+1} = -\\frac B A u^n - \\frac C A u^{n-1}=0$\n",
    "\n",
    "$A=C$ so :\n",
    "\n",
    "$ u^{n+1} = -\\frac B A u^n - u^{n-1}=0$\n",
    "\n",
    "$a = - \\frac BA = \\frac {\\left[ \\frac 2 {k^2} - w_0^2 \\frac {[(\\alpha + 1)} 2 \\right]}{\\left[ \\frac 1 {k^2} + w0^2 \\frac{(1-\\alpha)} 4 \\right]}$\n"
   ]
  },
  {
   "cell_type": "code",
   "execution_count": 21,
   "metadata": {},
   "outputs": [
    {
     "name": "stdout",
     "output_type": "stream",
     "text": [
      "a =  1.9314\r\n"
     ]
    }
   ],
   "source": [
    "a = (2/(k^2) - (w0^2)*(alpha + 1)/2)/(1/(k^2) + (w0^2)*(1-alpha)/4)"
   ]
  },
  {
   "cell_type": "markdown",
   "metadata": {},
   "source": [
    "### Question N°2 : Stability condition\n",
    "Check stability condition, which gives bound on k, given alpha and w0 (see the notes). Here, perform a check to make sure that the stability condition is\n",
    "- satisfied, for any values of the parameters. If it is not, the code\n",
    "- should exit with an error message.\n",
    "\n",
    "The stability condition is the following:\n",
    "\n",
    "$\\frac {\\alpha w_0^2 k^2} {4} \\leq 1$\n",
    "\n",
    "The parametric equation (58) is allways stable if $\\alpha \\leq 0$, but if $\\alpha > 0$ then :\n",
    "\n",
    "$k \\leq \\frac {2}{\\omega_0 \\sqrt{\\alpha}}$\n"
   ]
  },
  {
   "cell_type": "code",
   "execution_count": 22,
   "metadata": {},
   "outputs": [
    {
     "name": "stdout",
     "output_type": "stream",
     "text": [
      "INFO : Stability condition : satisfied!\r\n"
     ]
    }
   ],
   "source": [
    "if k <= 2/w0*sqrt(alpha)\n",
    "    fprintf('INFO : Stability condition : satisfied!\\n');\n",
    "else\n",
    "    error('WARNING! : Stability condition : NOT satisfied!\\n');\n",
    "    return;\n",
    "end"
   ]
  },
  {
   "cell_type": "markdown",
   "metadata": {},
   "source": [
    "### Question N°3 : Conserved energy expression\n",
    "Derive an expression for conserved energy and insert here below:\n",
    "Using the identities from the notes at Expr. (38) and Expr. (53) and\n",
    "using the parametrized scheme obtained in Q1, we get: \n",
    "\n",
    "$\\delta_{tt} u^n + \\omega_0^2 \\alpha u^n + (1-\\alpha)w_0^2\\mu_{to}u^n = 0$\n",
    "\n",
    "$\\delta_{t0}u^n\\delta_{tt}u^n + \\omega_0^2 \\alpha \\delta_{t0}u^nu^n + (1-\\alpha)w_0^2\\delta_{t0}u^n\\mu_{t0}u^n = 0$\n",
    "\n",
    "But :\n",
    "\n",
    "$\\delta_{t0}u^n\\delta_{tt}u^n = \\delta_{t+}\\left[ \\frac 12 (\\delta_{t-}u^n)^2 \\right]$\n",
    "\n",
    "$\\delta_{t0}u^n\\mu_{t0}u^n = \\delta_{t+}\\left[ \\frac 12 (\\mu_{t-}u^n)^2 \\right]$\n",
    "\n",
    "$\\delta_{t0}u^n = \\delta_{t+}\\mu_{t-}u^n$\n",
    "\n",
    "So : \n",
    "\n",
    "$\\delta_{t+}\\left[ \\frac 12 (\\delta_{t-}u^n)^2 \\right] + \\omega_0^2 \\alpha \\delta_{t+}\\mu_{t-}u^nu^n + (1-\\alpha)w_0^2\\delta_{t+}\\left[ \\frac 12 (\\mu_{t-}u^n)^2 \\right] = 0$\n",
    "\n",
    "$\\delta_{t+}\\left[ \\frac 12 (\\delta_{t-}u^n)^2 + \\omega_0^2 \\alpha \\mu_{t-}u^nu^n + (1-\\alpha)w_0^2\\left[ \\frac 12 (\\mu_{t-}u^n)^2 \\right]\\right] = 0$\n",
    "\n",
    "$\\delta_{t+} \\left[H\\right] = 0$\n",
    "\n",
    "$H(n) = \\frac 1 {2k^2} (u^n-u^{n-1})^2 +  \\frac {\\omega_0^2} 2 (\\alpha u^n u^{n-1} + \\frac {(1-\\alpha)} 2 (u^n + u^{n-1})^2)$\n"
   ]
  },
  {
   "cell_type": "code",
   "execution_count": 25,
   "metadata": {},
   "outputs": [
    {
     "name": "stdout",
     "output_type": "stream",
     "text": [
      "Elapsed time is 0.793613 seconds.\r\n"
     ]
    },
    {
     "data": {
      "image/png": "[encoded data removed]",
      "text/plain": [
       "<IPython.core.display.Image object>"
      ]
     },
     "metadata": {},
     "output_type": "display_data"
    }
   ],
   "source": [
    "tic\n",
    "\n",
    "for n=1:Nf\n",
    "    u = a*u1-u2;\n",
    "    out(n) = u2;\n",
    "    \n",
    "    % Q3: derive an expression for conserved energy and insert here below:\n",
    "    % Using the identities from the notes at Expr. (38) and Expr. (53) and\n",
    "    % using the parametrized scheme obtained in Q1, we get: \n",
    "    \n",
    "    H(n) = 0.5*(u1-u2)^2/k^2 + 0.5*w0^2*(alpha*u1*u2 + (1 - alpha)*(0.5*(u1+u2)^2));\n",
    "    \n",
    "    u2 = u1;\n",
    "    u1 = u;\n",
    "end\n",
    "\n",
    "toc\n",
    "\n",
    "% plot\n",
    "\n",
    "tax = [0:Nf-1]'*k;\n",
    "\n",
    "Herr = (H-H(1))/H(1);\n",
    "%plot(tax,Herr,'k.');\n",
    "plot(tax,Herr,'k.');\n",
    "xlabel('t');\n",
    "ylabel('H');\n",
    "title('Energy variation');\n",
    "\n",
    "% play sound\n",
    "\n",
    "soundsc(out,Fs)"
   ]
  },
  {
   "cell_type": "markdown",
   "metadata": {},
   "source": []
  }
 ],
 "metadata": {
  "kernelspec": {
   "display_name": "Octave",
   "language": "octave",
   "name": "octave"
  },
  "language_info": {
   "file_extension": ".m",
   "help_links": [
    {
     "text": "GNU Octave",
     "url": "https://www.gnu.org/software/octave/support.html"
    },
    {
     "text": "Octave Kernel",
     "url": "https://github.com/Calysto/octave_kernel"
    },
    {
     "text": "MetaKernel Magics",
     "url": "https://metakernel.readthedocs.io/en/latest/source/README.html"
    }
   ],
   "mimetype": "text/x-octave",
   "name": "octave",
   "version": "5.1.0"
  }
 },
 "nbformat": 4,
 "nbformat_minor": 2
}
